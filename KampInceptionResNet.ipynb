{
 "cells": [
  {
   "cell_type": "markdown",
   "metadata": {},
   "source": [
    "# KampInceptionResNet"
   ]
  },
  {
   "cell_type": "markdown",
   "metadata": {},
   "source": [
    "## Import Libarary"
   ]
  },
  {
   "cell_type": "code",
   "execution_count": 1,
   "metadata": {},
   "outputs": [],
   "source": [
    "import torch\n",
    "from torch.utils.data import DataLoader\n",
    "\n",
    "from sklearn.metrics import f1_score, confusion_matrix, classification_report\n",
    "\n",
    "from kamp.preprocess import KampDataLoader\n",
    "from kamp.utils import KampDataset, evaluate_model\n",
    "from kamp.model import KampInceptionResNet"
   ]
  },
  {
   "cell_type": "code",
   "execution_count": null,
   "metadata": {},
   "outputs": [],
   "source": [
    "help(KampDataLoader)"
   ]
  },
  {
   "cell_type": "markdown",
   "metadata": {},
   "source": [
    "## Load Data"
   ]
  },
  {
   "cell_type": "code",
   "execution_count": null,
   "metadata": {},
   "outputs": [],
   "source": [
    "DATA_PATH = './data/경진대회용 주조 공정최적화 데이터셋.csv'\n",
    "\n",
    "data_loader = KampDataLoader(\n",
    "    path = DATA_PATH,\n",
    "\n",
    "    # 처리 안한게 더 좋았음\n",
    "    # 처리 안한 것 : 0.944\n",
    "    # 처리 한 것 : 최대 0.922\n",
    "    do_count_trend=False,\n",
    "    drop_count=False,\n",
    "\n",
    "    get_useful_p_data=True,\n",
    "    p_threshold=0.05,\n",
    "\n",
    "    outlier_method='iso',\n",
    "    iso_outlier_rate=0.0075,\n",
    "\n",
    "    do_resample=True,\n",
    "    downsampled_pass_rate=1.0,\n",
    "    upsampled_fail_rate_about_pass=0.25,\n",
    "    upsample_method='adasyn',\n",
    ")\n",
    "\n",
    "data_loader.process()\n",
    "\n",
    "data = data_loader.load()\n",
    "\n",
    "x_train = data['train_data']\n",
    "y_train = data['train_label']\n",
    "x_test = data['test_data']\n",
    "y_test=  data['test_label']"
   ]
  },
  {
   "cell_type": "markdown",
   "metadata": {},
   "source": [
    "## Modeling"
   ]
  },
  {
   "cell_type": "code",
   "execution_count": 4,
   "metadata": {},
   "outputs": [],
   "source": [
    "RANDOM_SEED = 42\n",
    "BATCH_SIZE = 32\n",
    "EPOCHS = 1\n",
    "\n",
    "torch.manual_seed(RANDOM_SEED)\n",
    "torch.set_num_threads(8)"
   ]
  },
  {
   "cell_type": "code",
   "execution_count": 5,
   "metadata": {},
   "outputs": [],
   "source": [
    "train_dataset = KampDataset(inputs=x_train, labels=y_train)\n",
    "\n",
    "train_dataloader = DataLoader(\n",
    "    dataset=train_dataset,\n",
    "    batch_size=BATCH_SIZE,\n",
    "    shuffle=True\n",
    ")"
   ]
  },
  {
   "cell_type": "code",
   "execution_count": null,
   "metadata": {},
   "outputs": [],
   "source": [
    "model, history = KampInceptionResNet().fit(train_dataloader)"
   ]
  },
  {
   "cell_type": "markdown",
   "metadata": {},
   "source": [
    "## Evaluation"
   ]
  },
  {
   "cell_type": "code",
   "execution_count": 355,
   "metadata": {},
   "outputs": [],
   "source": [
    "test_dataset = KampDataset(inputs=x_test, labels=y_test)\n",
    "\n",
    "test_dataloader = DataLoader(\n",
    "    dataset=test_dataset,\n",
    "    batch_size=BATCH_SIZE,\n",
    "    shuffle=False\n",
    ")"
   ]
  },
  {
   "cell_type": "code",
   "execution_count": null,
   "metadata": {},
   "outputs": [],
   "source": [
    "true_labels, predicted_labels = evaluate_model(model, test_dataloader)\n",
    "\n",
    "f1 = f1_score(true_labels, predicted_labels, average='weighted', zero_division=1)\n",
    "print(f\"F1 Socre : {f1:.4f}\\n\")\n",
    "\n",
    "conf_matrix = confusion_matrix(true_labels, predicted_labels)\n",
    "print(\"Confusion Matrix : \")\n",
    "print(conf_matrix, '\\n')\n",
    "\n",
    "print(\"Classification Report : \")\n",
    "print(classification_report(true_labels, predicted_labels), '\\n')"
   ]
  }
 ],
 "metadata": {
  "kernelspec": {
   "display_name": "ml_env",
   "language": "python",
   "name": "python3"
  },
  "language_info": {
   "codemirror_mode": {
    "name": "ipython",
    "version": 3
   },
   "file_extension": ".py",
   "mimetype": "text/x-python",
   "name": "python",
   "nbconvert_exporter": "python",
   "pygments_lexer": "ipython3",
   "version": "3.10.15"
  }
 },
 "nbformat": 4,
 "nbformat_minor": 2
}
