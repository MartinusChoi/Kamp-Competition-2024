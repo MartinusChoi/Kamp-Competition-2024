{
 "cells": [
  {
   "cell_type": "code",
   "execution_count": 5,
   "metadata": {},
   "outputs": [
    {
     "name": "stdout",
     "output_type": "stream",
     "text": [
      "==================== [Data Process Start] ==================== \n",
      "\n",
      "[process Log] Loading Raw Data...\n",
      "[process Log] Done\n",
      "\n",
      "[process Log] Processing Nan Value...\n",
      "[process Log] Done\n",
      "\n",
      "[process Log] Encoding Categorical Features...\n",
      "[process Log] Done\n",
      "\n",
      "[process Log] Removing Outliers (IsoForest)...\n",
      "[Outlier-Remover Log] With Outliers Shape : (92014, 23)\n",
      "[Outlier-Remover Log] Without Outliers Shape : (90633, 23)\n",
      "[process Log] Done\n",
      "\n",
      "[process Log] T-Testing...\n",
      "[process Log] Done\n",
      "\n",
      "[process Log] Train Test Spliting...\n",
      "[process Log] Done\n",
      "\n",
      "[process Log] Data Resampling...\n",
      "[process Log] Done\n",
      "\n",
      "[process Log] Data Scaling (MinMaxScaler)...\n",
      "[process Log] Done\n",
      "\n",
      "======================= [Done] =======================\n"
     ]
    }
   ],
   "source": [
    "from kamp.preprocess import KampDataLoader\n",
    "\n",
    "DATA_PATH = './data/경진대회용 주조 공정최적화 데이터셋.csv'\n",
    "\n",
    "NAN_GRID = {\n",
    "    'drop_features' : ['line', 'name', 'mold_name', 'time', 'date', \n",
    "                       'emergency_stop', 'molten_volume', 'registration_time'],\n",
    "    'simple_fill_dict' : {'tryshot_signal' : 'No', 'heating_furnace' : 'C'},\n",
    "    'mode_fill_features' : ['upper_mold_temp3', 'lower_mold_temp3', 'molten_temp'],\n",
    "    'mode_criterion' : 'mold_code'\n",
    "}\n",
    "\n",
    "ENCODE_GRID = {\n",
    "    'working' : ['정지', '가동'],\n",
    "    'tryshot_signal' : ['No', 'D'],\n",
    "    'heating_furnace' : ['A', 'B', 'C'],\n",
    "    'mold_code' : [8412, 8413, 8573, 8576, 8600, 8722, 8917]\n",
    "}\n",
    "\n",
    "data_loader = KampDataLoader(path = DATA_PATH,\n",
    "                             nan_grid=NAN_GRID,\n",
    "                             encode_grid=ENCODE_GRID,\n",
    "\n",
    "                             outlier_method='iso',\n",
    "                             p_threshold=0.05,\n",
    "                             get_useful_p_data=True,\n",
    "                             iso_outlier_rate=0.015,\n",
    "                             \n",
    "                             downsampled_pass_rate=0.6,\n",
    "                             upsampled_total_fail_rate=0.15)\n",
    "\n",
    "data_loader.process()\n",
    "\n",
    "data = data_loader.load()\n",
    "\n",
    "x_train = data['train_data']\n",
    "y_train = data['train_label']\n",
    "x_test = data['test_data']\n",
    "y_test=  data['test_label']"
   ]
  },
  {
   "cell_type": "code",
   "execution_count": 6,
   "metadata": {},
   "outputs": [
    {
     "data": {
      "text/plain": [
       "((48571, 17), (48571,), (46284, 17), (46284,))"
      ]
     },
     "execution_count": 6,
     "metadata": {},
     "output_type": "execute_result"
    }
   ],
   "source": [
    "x_train.shape, y_train.shape, x_test.shape, y_test.shape"
   ]
  }
 ],
 "metadata": {
  "kernelspec": {
   "display_name": "lecture",
   "language": "python",
   "name": "python3"
  },
  "language_info": {
   "codemirror_mode": {
    "name": "ipython",
    "version": 3
   },
   "file_extension": ".py",
   "mimetype": "text/x-python",
   "name": "python",
   "nbconvert_exporter": "python",
   "pygments_lexer": "ipython3",
   "version": "3.10.15"
  }
 },
 "nbformat": 4,
 "nbformat_minor": 2
}
